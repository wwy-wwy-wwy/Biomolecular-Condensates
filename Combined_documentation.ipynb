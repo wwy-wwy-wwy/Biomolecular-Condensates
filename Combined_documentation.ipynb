{
 "cells": [
  {
   "cell_type": "markdown",
   "id": "0cfb0cce-b267-4d18-85e2-e3589fac74df",
   "metadata": {},
   "source": [
    "# Team members: \n",
    "Anqi Chen, Wenyun Wang, Hanyue Wang"
   ]
  },
  {
   "cell_type": "markdown",
   "id": "d0353b12-f5f7-4fce-a556-3f24d46a5fba",
   "metadata": {},
   "source": [
    "# References:\n",
    "- \"Time Series Analysis with Applications in R\" by Jonathan D. Cryer and Kung-Sik Chan\n",
    "\n",
    "- https://docs.pymc.io/en/v3/pymc-examples/examples/time_series/AR.html\n",
    "\n",
    "- https://en.wikipedia.org/wiki/Autoregressive_model"
   ]
  },
  {
   "cell_type": "code",
   "execution_count": null,
   "id": "06c880c9-932c-4a51-81ec-b957db022b47",
   "metadata": {},
   "outputs": [],
   "source": [
    "import condensate_speckle\n",
    "from condensate_speckle.data_io import*\n",
    "from condensate_speckle.inference.model import*\n",
    "from condensate_speckle.inference.simulation import*"
   ]
  },
  {
   "cell_type": "code",
   "execution_count": null,
   "id": "4feb322f-bb0c-46f4-abfd-398badf9a4e1",
   "metadata": {},
   "outputs": [],
   "source": [
    "%config InlineBackend.figure_format = 'retina'\n",
    "RANDOM_SEED = 10787\n",
    "az.style.use(\"arviz-darkgrid\")"
   ]
  },
  {
   "cell_type": "markdown",
   "id": "ccec9c3e-17eb-4022-8ca4-4f9b3d37bc55",
   "metadata": {},
   "source": [
    "# Primar Goal - AR(1) model"
   ]
  },
  {
   "cell_type": "markdown",
   "id": "ee570389-1fb6-4bc7-a744-97ee33f1a712",
   "metadata": {
    "tags": []
   },
   "source": [
    "## General model"
   ]
  },
  {
   "cell_type": "markdown",
   "id": "342c70d2-dfc6-4fe0-852e-ff3aec18f510",
   "metadata": {},
   "source": [
    "We are using first order autoregression model as our general model. The overal general form of autoregression model is $Y_t=c+\\sum_{i=1}^{p}\\phi_i\\times Y_{t-i}+\\varepsilon_t$, where c is the mean of innovation term, $Y$ is the intensity at each time point, $\\phi_i$ is the decay parameter that depends on $\\tau$, and $\\varepsilon_t$ is the uncertainty of the innovation term, which centers around 0 and has a standard deviation of $\\sigma_{\\varepsilon}$. For the primary goal, we are using first-order approximation only, known as AR(1) model. That is $$Y_t=c+\\phi\\times Y_{t-1}+\\varepsilon_t$$\n",
    ", where $\\phi=\\exp(-1/\\tau)$. So the equation becomes $Y_t=c+\\exp(-1/\\tau)\\times Y_{t-1}+\\varepsilon_t$. \n",
    "\n",
    "We need to specify three variables in order to build the generative model: the mean $c$, standard deviation $\\sigma_{\\varepsilon}$, and decay time $\\tau$. Here, $\\varepsilon_t$ is considered as Gaussian distribution and $\\tau$ is the value that we are most interested in. We also need the camera noise level of confocal microscope, which is set to be a fixed number equal to $\\sqrt{\\overline{Y}}$.\n",
    "\n",
    "From the model, the overall data intensity mean can be calculated by $\\frac{c}{1-\\phi}$ and the intensity variance is $\\frac{\\sigma_e^2}{1-\\phi^2}$. "
   ]
  },
  {
   "cell_type": "markdown",
   "id": "95b5ec55-da38-44f2-9a8a-9ac392401194",
   "metadata": {},
   "source": [
    "## Simulating data"
   ]
  },
  {
   "cell_type": "markdown",
   "id": "63a377bb-19ae-45e1-ba6d-5453bb8caba4",
   "metadata": {},
   "source": [
    "explain"
   ]
  },
  {
   "cell_type": "code",
   "execution_count": null,
   "id": "7adcbcc3-253f-4ac2-86ac-202e5cf73c99",
   "metadata": {},
   "outputs": [],
   "source": [
    "number_of_points=5000\n",
    "tau=10\n",
    "quantization=255\n",
    "intensity_mean=100\n",
    "intensity_std=20\n",
    "camera_noise=5\n",
    "camera_std=1"
   ]
  },
  {
   "cell_type": "code",
   "execution_count": null,
   "id": "a356d5e4-ad5f-4a41-a0f6-c74b1423bc0e",
   "metadata": {},
   "outputs": [],
   "source": [
    "simulated_data_single, simulated_t_single=simulate_single_decay_data(number_of_points,tau, quantization, intensity_mean, intensity_std, camera_noise,camera_std)"
   ]
  },
  {
   "cell_type": "markdown",
   "id": "ce6fff43-eb63-4b70-a736-46eca9a662b0",
   "metadata": {},
   "source": [
    "## Infer decay time from data using the AR(1) model in pymc3"
   ]
  },
  {
   "cell_type": "markdown",
   "id": "5ecb0c55-45fc-43c2-b8f7-66f25dab8c6f",
   "metadata": {},
   "source": [
    "To fit our model AR1 model, we want to extract the following parameters: decay time, which is the $\\tau$ above; stationary is the $\\phi$, precision is defined as $\\frac{1}{\\sigma_e^2}$; center is the innovation mean. Our prior for $\\tau$ is uniform from 0 to 50, based on the experimental data time scale; for precision, we also use a uniform prior from 0 to 10 times the calculated precision from simulation parameters; for center, it is uniform from the lowest possible intensity to the highest possible intensity.\n",
    "\n",
    "Thus, the statistical model we use is:\n",
    "$$ \\tau \\sim \\text{Uniform} (0,50) $$\n",
    "$$ \\text{precision} \\sim \\text{Uniform} (0, 1) $$\n",
    "$$ \\mu \\sim \\text{Uniform} (I_{min}, I_{max}) $$\n",
    "$$ p(X) \\sim \\text{AR1} (\\text{k} = e^{-1/\\tau}, \\text{tau_e} = \\text{precision}, \\text{observed} = X-\\mu )$$"
   ]
  },
  {
   "cell_type": "code",
   "execution_count": null,
   "id": "a2671e2f-fbca-40ee-98e5-f4a311098c89",
   "metadata": {},
   "outputs": [],
   "source": [
    "quantization = 255"
   ]
  },
  {
   "cell_type": "markdown",
   "id": "2d7869ca-a555-4cf3-a18c-07347f630ecd",
   "metadata": {},
   "source": [
    "### Infer Simulated data"
   ]
  },
  {
   "cell_type": "code",
   "execution_count": null,
   "id": "c5540c2f-cc3c-4893-8ed2-922238ba9b4a",
   "metadata": {},
   "outputs": [],
   "source": [
    "ar1_model_simulated=set_model(simulated_data_single,quantization,aged_time='simulated')\n",
    "trace_single_model_simulated = run_model(ar1_model_simulated)"
   ]
  },
  {
   "cell_type": "code",
   "execution_count": null,
   "id": "80c97ab0-b9e6-4e70-8846-539cd437c405",
   "metadata": {},
   "outputs": [],
   "source": [
    "plot_trace(trace_single_model_simulated)"
   ]
  },
  {
   "cell_type": "code",
   "execution_count": null,
   "id": "d9f81404-733f-46e5-b6f2-ae5683033455",
   "metadata": {},
   "outputs": [],
   "source": [
    "plot_posterior(trace_single_model_simulated)"
   ]
  },
  {
   "cell_type": "code",
   "execution_count": null,
   "id": "250dc66e-0ac0-45ba-b148-7e84bee407ce",
   "metadata": {},
   "outputs": [],
   "source": [
    "plot_pair(trace_single_model_simulated)"
   ]
  },
  {
   "cell_type": "markdown",
   "id": "b64b2a05-5dd9-4224-9994-294501dc64e7",
   "metadata": {
    "tags": []
   },
   "source": [
    "### Infer 2 hour aged sample"
   ]
  },
  {
   "cell_type": "markdown",
   "id": "4f0c4116-e805-46c9-a9e0-3ce4222fce9d",
   "metadata": {},
   "source": [
    "For choosing the data point, we pick a random point in the condensate sample, gaussian smooth the intensity at each time point with a 5*5 kernel to reduce the effect from camera noise."
   ]
  },
  {
   "cell_type": "code",
   "execution_count": null,
   "id": "f1be6a3a-76a6-4eff-8d59-a64456a17038",
   "metadata": {},
   "outputs": [],
   "source": [
    "#Load in real data and plot\n",
    "data_2h = load_data('[100, 100]_2h_intensity.csv',data_dir='condensate_speckle/example_data')"
   ]
  },
  {
   "cell_type": "code",
   "execution_count": null,
   "id": "0904cbc2-e226-4582-afd3-092223630be5",
   "metadata": {},
   "outputs": [],
   "source": [
    "# Sample with pymc3 using the single timescale model\n",
    "ar1_model_2h=set_model(data_2h['Intensity'],quantization,'2h')\n",
    "trace_single_model_2h = run_model(ar1_model_2h)"
   ]
  },
  {
   "cell_type": "code",
   "execution_count": null,
   "id": "5da5376a-0056-41c1-a5f3-e828b88bf453",
   "metadata": {},
   "outputs": [],
   "source": [
    "plot_trace(trace_single_model_2h)"
   ]
  },
  {
   "cell_type": "code",
   "execution_count": null,
   "id": "399f5afa-9b4e-4bb4-8b14-34909a301e45",
   "metadata": {},
   "outputs": [],
   "source": [
    "plot_posterior(trace_single_model_2h)"
   ]
  },
  {
   "cell_type": "code",
   "execution_count": null,
   "id": "1ca93d70-ecd3-4389-9e87-5a54259dcbbc",
   "metadata": {},
   "outputs": [],
   "source": [
    "plot_pair(trace_single_model_2h)"
   ]
  },
  {
   "cell_type": "markdown",
   "id": "2badd60c-7799-40f3-9ca9-b2c54f53c488",
   "metadata": {
    "tags": []
   },
   "source": [
    "### Infer 7 hour aged sample"
   ]
  },
  {
   "cell_type": "code",
   "execution_count": null,
   "id": "ffc13e15-a07c-4775-979d-b48249200f99",
   "metadata": {},
   "outputs": [],
   "source": [
    "data_7h = load_data('[100, 117]_7h_intensity.csv',data_dir='condensate_speckle/example_data')"
   ]
  },
  {
   "cell_type": "code",
   "execution_count": null,
   "id": "3a5632bc-ffa8-4b6e-8712-128423d6b279",
   "metadata": {},
   "outputs": [],
   "source": [
    "ar1_model_7h=set_model(data_7h['Intensity'],quantization)\n",
    "trace_single_model_7h= run_model(ar1_model_7h)"
   ]
  },
  {
   "cell_type": "code",
   "execution_count": null,
   "id": "472690c2-7a1b-4d9f-bf42-dea6b84c5d16",
   "metadata": {},
   "outputs": [],
   "source": [
    "plot_trace(trace_single_model_7h)"
   ]
  },
  {
   "cell_type": "code",
   "execution_count": null,
   "id": "b1f22c51-6626-4541-90ac-205a7b324cd1",
   "metadata": {},
   "outputs": [],
   "source": [
    "plot_posterior(trace_single_model_7h)"
   ]
  },
  {
   "cell_type": "code",
   "execution_count": null,
   "id": "03bc7b17-c767-4d84-ba02-587e663a38bc",
   "metadata": {},
   "outputs": [],
   "source": [
    "plot_pair(trace_single_model_7h)"
   ]
  },
  {
   "cell_type": "markdown",
   "id": "78139f54-1cd0-48ed-ace7-4ccd7101a39c",
   "metadata": {},
   "source": [
    "### Infer 24 hour aged sample"
   ]
  },
  {
   "cell_type": "code",
   "execution_count": null,
   "id": "64459d91-7647-4f03-92e7-62a870c99213",
   "metadata": {},
   "outputs": [],
   "source": [
    "data_24h = load_data('[120, 145]_intensity.csv',data_dir='condensate_speckle/example_data')"
   ]
  },
  {
   "cell_type": "code",
   "execution_count": null,
   "id": "0e1c627f-cdcb-4042-bd1d-20756d504dd7",
   "metadata": {},
   "outputs": [],
   "source": [
    "ar1_model_24h=set_model(data_24h['Intensity'],quantization)\n",
    "trace_single_model_24h= run_model(ar1_model_24h)"
   ]
  },
  {
   "cell_type": "code",
   "execution_count": null,
   "id": "badf79e1-8907-49fc-a058-f0387bb74287",
   "metadata": {},
   "outputs": [],
   "source": [
    "plot_trace(trace_single_model_24h)"
   ]
  },
  {
   "cell_type": "code",
   "execution_count": null,
   "id": "bab808d8-4c8d-4623-87fb-76b43708b923",
   "metadata": {},
   "outputs": [],
   "source": [
    "plot_posterior(trace_single_model_24h)"
   ]
  },
  {
   "cell_type": "code",
   "execution_count": null,
   "id": "4b6d9318-f8b7-4b06-9f8f-cc30fd356a96",
   "metadata": {},
   "outputs": [],
   "source": [
    "plot_pair(trace_single_model_24h)"
   ]
  },
  {
   "cell_type": "markdown",
   "id": "43907f6d-ad15-436e-9912-e81ebbd16e04",
   "metadata": {},
   "source": [
    "# \"Can do\" Goal - 2 timescale decay"
   ]
  },
  {
   "cell_type": "markdown",
   "id": "e828d330-6e4c-46c0-aec1-8f4ec48cf788",
   "metadata": {},
   "source": [
    "## simulate data"
   ]
  },
  {
   "cell_type": "code",
   "execution_count": null,
   "id": "7cdffebe-bd44-4d9c-ad6a-6dff709caaef",
   "metadata": {},
   "outputs": [],
   "source": [
    "number_of_points=1000\n",
    "tau_1=10\n",
    "tau_2=30\n",
    "relative_var=0.5\n",
    "quantization=255\n",
    "intensity_mean=150\n",
    "intensity_std=40\n",
    "camera_noise=8\n",
    "camera_std=3"
   ]
  },
  {
   "cell_type": "code",
   "execution_count": null,
   "id": "90e37f77-fd0a-40b9-bd39-65e3bf2912c5",
   "metadata": {},
   "outputs": [],
   "source": [
    "simulated_data_double, simulated_t_double=simulate_double_decay_data(number_of_points,tau_1,tau_2, relative_var,quantization, intensity_mean, intensity_std, camera_noise, camera_std)"
   ]
  },
  {
   "cell_type": "markdown",
   "id": "3c3f7f1b-e341-4536-966e-099b0a09082d",
   "metadata": {},
   "source": [
    "## Infer decay time from data using the AR(1)+AR(1) model in pymc3"
   ]
  },
  {
   "cell_type": "markdown",
   "id": "c0db0779-fe13-4dd6-81f4-47121cc1661b",
   "metadata": {},
   "source": [
    "### Infer simulated data"
   ]
  },
  {
   "cell_type": "code",
   "execution_count": null,
   "id": "ce315469-239a-4d39-87a7-0cb87c8f2300",
   "metadata": {},
   "outputs": [],
   "source": [
    "ar1_multi_model_double=set_single_precision_model(simulated_data_double, quantization,aged_time='simulated')\n",
    "trace_multi_model_double = run_model(ar1_multi_model_double)"
   ]
  },
  {
   "cell_type": "code",
   "execution_count": null,
   "id": "61ce2c88-549e-4be8-8d5b-25dd54fe9bcd",
   "metadata": {},
   "outputs": [],
   "source": [
    "plot_trace(trace_multi_model_double, n_time_scale = 2)"
   ]
  },
  {
   "cell_type": "code",
   "execution_count": null,
   "id": "b46ca946-c2a6-4693-990f-09185405847c",
   "metadata": {},
   "outputs": [],
   "source": [
    "plot_posterior(trace_multi_model_double, n_time_scale = 2)"
   ]
  },
  {
   "cell_type": "code",
   "execution_count": null,
   "id": "8128284d-43cb-4242-8898-ab55d3171098",
   "metadata": {},
   "outputs": [],
   "source": [
    "plot_pair(trace_multi_model_double, n_time_scale = 2)"
   ]
  },
  {
   "cell_type": "markdown",
   "id": "0ce8d860-95b8-4cdd-8ff3-67a82cf367e7",
   "metadata": {},
   "source": [
    "### From the result of single AR(1) model, the 2 hour aged sample has a decay time constant less than 1 time frame. Indicating it as a liquid state, so we do not think the two time scale model fits this condition."
   ]
  },
  {
   "cell_type": "markdown",
   "id": "2d7e95be-4390-4163-b365-8d5ae6394828",
   "metadata": {},
   "source": [
    "### Infer 7h aged data"
   ]
  },
  {
   "cell_type": "code",
   "execution_count": null,
   "id": "67510956-1226-4dc0-a376-9b6493bb76f3",
   "metadata": {},
   "outputs": [],
   "source": [
    "ar1_multi_model_7h=set_single_precision_model(data_7h['Intensity'], quantization)\n",
    "trace_multi_model_7h = run_model(ar1_multi_model_7h)"
   ]
  },
  {
   "cell_type": "code",
   "execution_count": null,
   "id": "34a830cc-fda3-437f-9759-a9eb82c5595b",
   "metadata": {},
   "outputs": [],
   "source": [
    "plot_trace(trace_multi_model_7h, n_time_scale = 2)"
   ]
  },
  {
   "cell_type": "code",
   "execution_count": null,
   "id": "b85fb9db-7cf6-4bfa-857f-aa2730c2d8d4",
   "metadata": {},
   "outputs": [],
   "source": [
    "plot_posterior(trace_multi_model_7h, n_time_scale = 2)"
   ]
  },
  {
   "cell_type": "code",
   "execution_count": null,
   "id": "4dbf2057-3b0a-473a-9789-fd2e790ad3c0",
   "metadata": {},
   "outputs": [],
   "source": [
    "plot_pair(trace_multi_model_7h, n_time_scale = 2)"
   ]
  },
  {
   "cell_type": "markdown",
   "id": "f31723c8-3885-4cf7-be44-5d8d7d66fb3c",
   "metadata": {},
   "source": [
    "### Infer 24 hour aged sample"
   ]
  },
  {
   "cell_type": "code",
   "execution_count": null,
   "id": "467d2fe6-1614-4d2c-919f-8e9f71840483",
   "metadata": {},
   "outputs": [],
   "source": [
    "ar1_multi_model_24h=set_single_precision_model(data_24h['Intensity'], quantization)\n",
    "trace_multi_model_24h = run_model(ar1_multi_model_24h)"
   ]
  },
  {
   "cell_type": "code",
   "execution_count": null,
   "id": "43306fa7-26e7-4a30-9e8a-f060d04ccda1",
   "metadata": {},
   "outputs": [],
   "source": [
    "plot_trace(trace_multi_model_24h, n_time_scale = 2)"
   ]
  },
  {
   "cell_type": "code",
   "execution_count": null,
   "id": "1d2ec03a-a005-4fb9-98c6-e8220ccf09e5",
   "metadata": {},
   "outputs": [],
   "source": [
    "plot_posterior(trace_multi_model_24h, n_time_scale = 2)"
   ]
  },
  {
   "cell_type": "code",
   "execution_count": null,
   "id": "6e118ec9-5d3e-4625-8620-f3ca961792ae",
   "metadata": {},
   "outputs": [],
   "source": [
    "plot_pair(trace_multi_model_24h,n_time_scale = 2)"
   ]
  },
  {
   "cell_type": "code",
   "execution_count": null,
   "id": "1cb523c5-04cf-4134-88b7-7b923e146d3b",
   "metadata": {},
   "outputs": [],
   "source": []
  }
 ],
 "metadata": {
  "kernelspec": {
   "display_name": "Python 3 (ipykernel)",
   "language": "python",
   "name": "python3"
  },
  "language_info": {
   "codemirror_mode": {
    "name": "ipython",
    "version": 3
   },
   "file_extension": ".py",
   "mimetype": "text/x-python",
   "name": "python",
   "nbconvert_exporter": "python",
   "pygments_lexer": "ipython3",
   "version": "3.9.9"
  }
 },
 "nbformat": 4,
 "nbformat_minor": 5
}
